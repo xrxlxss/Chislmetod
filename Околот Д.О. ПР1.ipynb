{
  "metadata": {
    "kernelspec": {
      "name": "python",
      "display_name": "Python (Pyodide)",
      "language": "python"
    },
    "language_info": {
      "codemirror_mode": {
        "name": "python",
        "version": 3
      },
      "file_extension": ".py",
      "mimetype": "text/x-python",
      "name": "python",
      "nbconvert_exporter": "python",
      "pygments_lexer": "ipython3",
      "version": "3.8"
    }
  },
  "nbformat_minor": 5,
  "nbformat": 4,
  "cells": [
    {
      "cell_type": "code",
      "source": "import math as m\n\nx1=m.sqrt(31)\nx2=13/17\nx3=5.56\nx4=0.764\n\ndef f(x1, x2, x3, x4):\n    a=abs(x1-x3)/x1;\n    b=abs(x2-x4)/x3;\n    \n    if a < b:\n        print(\"Рівність √31=5,56, буде точнішою:\", a) \n    elif b > a:\n        print(\"Рівніть 13/17=0,764, буде точнішою:\", b)\n    else:\n        print(\"Обидві рівности одинаково точні\", a)",
      "metadata": {
        "trusted": true
      },
      "execution_count": 1,
      "outputs": [],
      "id": "d4717a8c-ab40-45fd-b88f-5b44614ba6c0"
    },
    {
      "cell_type": "code",
      "source": "",
      "metadata": {},
      "execution_count": null,
      "outputs": [],
      "id": "6db26f0e-22ac-4312-b7ae-78b8184493fa"
    }
  ]
}