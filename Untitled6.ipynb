{
  "nbformat": 4,
  "nbformat_minor": 0,
  "metadata": {
    "colab": {
      "provenance": []
    },
    "kernelspec": {
      "name": "python3",
      "display_name": "Python 3"
    },
    "language_info": {
      "name": "python"
    }
  },
  "cells": [
    {
      "cell_type": "code",
      "execution_count": 1,
      "metadata": {
        "colab": {
          "base_uri": "https://localhost:8080/"
        },
        "id": "y_hMXA6TYkWC",
        "outputId": "24b2bbe7-4602-445c-e308-e6fb3639fcfe"
      },
      "outputs": [
        {
          "output_type": "stream",
          "name": "stdout",
          "text": [
            "[[ 4 -8]\n",
            " [12 -4]]\n"
          ]
        }
      ],
      "source": [
        "import numpy as np\n",
        "a= np.array([[1, 2], [4,-1,]])\n",
        "b= np.array([[2, -3], [-4, 1]])\n",
        "a_b = np.dot(a, b)\n",
        "b_a = np.dot(b, a)\n",
        "c = a_b - b_a\n",
        "print(c)\n"
      ]
    },
    {
      "cell_type": "code",
      "source": [
        "a=np.array([[-1, 2], [0, 1]])\n",
        "a1 = np.dot(a, a)\n",
        "print(a1)"
      ],
      "metadata": {
        "colab": {
          "base_uri": "https://localhost:8080/"
        },
        "id": "uApzE5AGYuq7",
        "outputId": "629cbddc-d88f-430f-b927-1696ab09d0f0"
      },
      "execution_count": 5,
      "outputs": [
        {
          "output_type": "stream",
          "name": "stdout",
          "text": [
            "[[1 0]\n",
            " [0 1]]\n"
          ]
        }
      ]
    },
    {
      "cell_type": "code",
      "source": [
        "a= np.array([[3, 5], [6,-1]])\n",
        "b= np.array([[2,1], [-3,2]])\n",
        "a_b = np.dot(a, b)\n",
        "print(a_b)"
      ],
      "metadata": {
        "colab": {
          "base_uri": "https://localhost:8080/"
        },
        "id": "9mBZUvHVY2np",
        "outputId": "153a6e82-cd61-475c-cb1d-30bfd8e4f4ee"
      },
      "execution_count": 3,
      "outputs": [
        {
          "output_type": "stream",
          "name": "stdout",
          "text": [
            "[[-9 13]\n",
            " [15  4]]\n"
          ]
        }
      ]
    },
    {
      "cell_type": "code",
      "source": [
        "a= np.array([[2, 3, 4], [1, 0, 6], [7, 8, 9]])\n",
        "a_det = np.linalg.det(a)\n",
        "print(format(a_det, '.9g'))"
      ],
      "metadata": {
        "colab": {
          "base_uri": "https://localhost:8080/"
        },
        "id": "8aM6BZ_0ZJIE",
        "outputId": "5ec62638-3601-4759-84d3-87f52e1060bd"
      },
      "execution_count": 4,
      "outputs": [
        {
          "output_type": "stream",
          "name": "stdout",
          "text": [
            "35\n"
          ]
        }
      ]
    },
    {
      "cell_type": "code",
      "source": [
        "a= np.array([ [1, 2, 3,4],[-2, 1, -4,3],  [3, -4, -1,2],[4, 3, -2,-1]])\n",
        "a_det = np.linalg.det(a)\n",
        "print(format(a_det, '.9g'))"
      ],
      "metadata": {
        "colab": {
          "base_uri": "https://localhost:8080/"
        },
        "id": "Z15D2gaWZZXp",
        "outputId": "1a949316-f5ca-467f-fe03-1a3a2726323f"
      },
      "execution_count": 7,
      "outputs": [
        {
          "output_type": "stream",
          "name": "stdout",
          "text": [
            "900\n"
          ]
        }
      ]
    },
    {
      "cell_type": "code",
      "source": [
        "a= np.array([[1, 2, -3], [0, 1, 2], [0,0,1]])\n",
        "a_inv = np.linalg.inv(a)\n",
        "print(a_inv)"
      ],
      "metadata": {
        "colab": {
          "base_uri": "https://localhost:8080/"
        },
        "id": "FUl1sj7OZqDq",
        "outputId": "98d1b7ee-2ad9-4ce9-c4aa-fead71a2b533"
      },
      "execution_count": 8,
      "outputs": [
        {
          "output_type": "stream",
          "name": "stdout",
          "text": [
            "[[ 1. -2.  7.]\n",
            " [ 0.  1. -2.]\n",
            " [ 0.  0.  1.]]\n"
          ]
        }
      ]
    },
    {
      "cell_type": "code",
      "source": [
        "a = np.array([[1, 2, 3, 4],[3, -1, 2, 5], [1, 2, 3, 4], [1, 3, 4, 5]])\n",
        "rank = np.linalg.matrix_rank(a)\n",
        "print(rank)"
      ],
      "metadata": {
        "colab": {
          "base_uri": "https://localhost:8080/"
        },
        "id": "jdqDdNWCZ16z",
        "outputId": "5f67af11-5f85-473f-d4d5-b7ace307a0bb"
      },
      "execution_count": 9,
      "outputs": [
        {
          "output_type": "stream",
          "name": "stdout",
          "text": [
            "2\n"
          ]
        }
      ]
    },
    {
      "cell_type": "code",
      "source": [
        "a = np.matrix('1  -4  0; 2  -3  1; 1  4  2')\n",
        "b = np.matrix('-5; -7; -1')\n",
        "def kram(a,b):\n",
        "    det_a = np.linalg.det(a)\n",
        "    if det_a != 0:\n",
        "       a1 = np.matrix(a)\n",
        "       a2 = np.matrix(a)\n",
        "       a3 = np.matrix(a)\n",
        "       a1[:, 0] = b\n",
        "       a2[:, 1] = b\n",
        "       a3[:, 2] = b\n",
        "       x = np.linalg.det(a1)/det_a\n",
        "       y =np.linalg.det(a2)/det_a\n",
        "       z= np.linalg.det(a3)/det_a\n",
        "       print('Метод Крамера')\n",
        "       print('x=',x.round(3),'y=',y.round(3),'z=',z.round(3))\n",
        "    else:\n",
        "        print('нема рішень')\n",
        "    return x,y,z\n",
        "kram(a,b)\n",
        "print('Результат за допомогою solve():', np.linalg.solve(a,b).round(3))"
      ],
      "metadata": {
        "colab": {
          "base_uri": "https://localhost:8080/"
        },
        "id": "FSqP7GLPZ-99",
        "outputId": "acae55b5-2651-4e15-b5f2-c605db510de6"
      },
      "execution_count": 14,
      "outputs": [
        {
          "output_type": "stream",
          "name": "stdout",
          "text": [
            "Метод Крамера\n",
            "x= -1.0 y= 1.0 z= -2.0\n",
            "Результат за допомогою solve(): [[-1.]\n",
            " [ 1.]\n",
            " [-2.]]\n"
          ]
        }
      ]
    },
    {
      "cell_type": "code",
      "source": [
        "import random\n",
        "n = 4\n",
        "m = 4\n",
        "a = np.random.randint(0, 100, size=(n, m))\n",
        "print(a)\n",
        "column_sums = np.sum(np.abs(a), axis=0)\n",
        "max_sum_column_index = np.argmax(column_sums)\n",
        "min_element_in_max_sum_column = np.min(a[:, max_sum_column_index])\n",
        "print(f\"Суми абсолютних значень елементів для кожного стовпця: {column_sums}\")\n",
        "print(f\"Стовпець з максимальною сумою абсолютних значень: {max_sum_column_index}\")\n",
        "print(f\"Найменший елемент у цьому стовпці: {min_element_in_max_sum_column}\")"
      ],
      "metadata": {
        "colab": {
          "base_uri": "https://localhost:8080/"
        },
        "id": "onjF-KIWbkB1",
        "outputId": "e0598009-31fa-4c1d-aa54-db2acebc6ea8"
      },
      "execution_count": 15,
      "outputs": [
        {
          "output_type": "stream",
          "name": "stdout",
          "text": [
            "[[ 1 91 81 27]\n",
            " [17 63 89 21]\n",
            " [81 71 20 52]\n",
            " [34 65 42 69]]\n",
            "Суми абсолютних значень елементів для кожного стовпця: [133 290 232 169]\n",
            "Стовпець з максимальною сумою абсолютних значень: 1\n",
            "Найменший елемент у цьому стовпці: 63\n"
          ]
        }
      ]
    }
  ]
}